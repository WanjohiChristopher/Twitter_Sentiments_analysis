{
  "nbformat": 4,
  "nbformat_minor": 0,
  "metadata": {
    "colab": {
      "name": "Twitter_Sentiments_analysis.ipynb",
      "provenance": [],
      "collapsed_sections": [],
      "toc_visible": true,
      "authorship_tag": "ABX9TyOqYAN3hYCRnfQ54/ZD3Ymc",
      "include_colab_link": true
    },
    "kernelspec": {
      "display_name": "Python 3",
      "name": "python3"
    }
  },
  "cells": [
    {
      "cell_type": "markdown",
      "metadata": {
        "id": "view-in-github",
        "colab_type": "text"
      },
      "source": [
        "<a href=\"https://colab.research.google.com/github/WanjohiChristopher/Twitter_Sentiments_analysis/blob/master/Twitter_Sentiments_analysis.ipynb\" target=\"_parent\"><img src=\"https://colab.research.google.com/assets/colab-badge.svg\" alt=\"Open In Colab\"/></a>"
      ]
    },
    {
      "cell_type": "markdown",
      "metadata": {
        "id": "U3pjA1dqCg6c"
      },
      "source": [
        "# 1.BUSINESS UNDERSTANDING"
      ]
    },
    {
      "cell_type": "code",
      "metadata": {
        "id": "0MIQ4CYCRLZ9"
      },
      "source": [
        ""
      ],
      "execution_count": null,
      "outputs": []
    },
    {
      "cell_type": "markdown",
      "metadata": {
        "id": "N1hHMV2yBnwX"
      },
      "source": [
        "# Problem Statement\n",
        "\n",
        "### Detecting the polarity of tweet sentiment"
      ]
    },
    {
      "cell_type": "markdown",
      "metadata": {
        "id": "UYngEQMHBNw4"
      },
      "source": [
        "#Context\n",
        "This is the sentiment140 dataset. It contains 1000 tweets extracted using the twitter api . The tweets have been annotated (0 = negative, 4 = positive) and they can be used to detect sentiment .\n",
        "\n",
        "#description of the data\n",
        "It contains the following 6 fields:\n",
        "\n",
        "1.target: the polarity of the tweet (0 = negative, 2 = neutral, 4 = positive)\n",
        "\n",
        "2.ids: The id of the tweet ( 2087)\n",
        "\n",
        "3.date: the date of the tweet (Sat May 16 23:58:44 UTC 2009)\n",
        "\n",
        "4.flag: The query (lyx). If there is no query, then this value is NO_QUERY.\n",
        "\n",
        "5.user: the user that tweeted (robotickilldozr)\n",
        "\n",
        "6.text: the text of the tweet (Lyx is cool)"
      ]
    },
    {
      "cell_type": "markdown",
      "metadata": {
        "id": "Nia-K5cHCvuz"
      },
      "source": [
        "# Data Understanding"
      ]
    },
    {
      "cell_type": "code",
      "metadata": {
        "id": "d70ISDuhh7jy"
      },
      "source": [
        "import pandas as pd\r\n",
        "import numpy as np\r\n",
        "from functools import reduce\r\n",
        "import seaborn as sns\r\n",
        "from sklearn import preprocessing\r\n",
        "import matplotlib.pyplot as plt\r\n",
        "from sklearn.feature_extraction.text import CountVectorizer\r\n",
        "import nltk \r\n",
        "import string\r\n",
        "from google.colab import files\r\n",
        "import re\r\n",
        "%matplotlib inline\r\n",
        "\r\n",
        "\r\n",
        "import warnings\r\n",
        "warnings.filterwarnings(\"ignore\")                     #Ignoring unnecessory warnings\r\n",
        "\r\n",
        "import numpy as np                                  #for large and multi-dimensional arrays\r\n",
        "import pandas as pd                                 #for data manipulation and analysis\r\n",
        "import nltk                                         #Natural language processing tool-kit\r\n",
        "\r\n",
        "from nltk.corpus import stopwords                   #Stopwords corpus\r\n",
        "from nltk.stem import PorterStemmer                 # Stemmer\r\n",
        "from sklearn.feature_extraction.text import CountVectorizer          #For Bag of words\r\n",
        "from sklearn.feature_extraction.text import TfidfVectorizer          #For TF-IDF\r\n",
        "from gensim.models import Word2Vec       "
      ],
      "execution_count": null,
      "outputs": []
    },
    {
      "cell_type": "code",
      "metadata": {
        "id": "DyoLkxutDnsk"
      },
      "source": [
        "#uploading data to colab enviroment\n",
        "#upload=files.upload()\n",
        "#upload"
      ],
      "execution_count": 1,
      "outputs": []
    },
    {
      "cell_type": "markdown",
      "metadata": {
        "id": "lDW18nlhC5TE"
      },
      "source": [
        "##### importing libraries\n"
      ]
    },
    {
      "cell_type": "code",
      "metadata": {
        "colab": {
          "base_uri": "https://localhost:8080/",
          "height": 272
        },
        "id": "8fINIHi4D0lh",
        "outputId": "b0252e90-5a54-4b64-fa3e-8c7e5ad28e39"
      },
      "source": [
        "tweet_df=pd.read_csv('tweet.csv')\n",
        "tweet_df.sample(5)"
      ],
      "execution_count": null,
      "outputs": [
        {
          "output_type": "execute_result",
          "data": {
            "text/html": [
              "<div>\n",
              "<style scoped>\n",
              "    .dataframe tbody tr th:only-of-type {\n",
              "        vertical-align: middle;\n",
              "    }\n",
              "\n",
              "    .dataframe tbody tr th {\n",
              "        vertical-align: top;\n",
              "    }\n",
              "\n",
              "    .dataframe thead th {\n",
              "        text-align: right;\n",
              "    }\n",
              "</style>\n",
              "<table border=\"1\" class=\"dataframe\">\n",
              "  <thead>\n",
              "    <tr style=\"text-align: right;\">\n",
              "      <th></th>\n",
              "      <th>target</th>\n",
              "      <th>id</th>\n",
              "      <th>date</th>\n",
              "      <th>flag</th>\n",
              "      <th>user</th>\n",
              "      <th>text</th>\n",
              "    </tr>\n",
              "  </thead>\n",
              "  <tbody>\n",
              "    <tr>\n",
              "      <th>608</th>\n",
              "      <td>4</td>\n",
              "      <td>1467965994</td>\n",
              "      <td>Mon Apr 06 23:01:56 PDT 2009</td>\n",
              "      <td>NO_QUERY</td>\n",
              "      <td>lanaveenker</td>\n",
              "      <td>@AmandaEnglund Sorry to hear about your loss. ...</td>\n",
              "    </tr>\n",
              "    <tr>\n",
              "      <th>933</th>\n",
              "      <td>0</td>\n",
              "      <td>1468039856</td>\n",
              "      <td>Mon Apr 06 23:23:51 PDT 2009</td>\n",
              "      <td>NO_QUERY</td>\n",
              "      <td>georgewoods007</td>\n",
              "      <td>Yawn yawn yawn!! 10 more minutes in bed</td>\n",
              "    </tr>\n",
              "    <tr>\n",
              "      <th>36</th>\n",
              "      <td>0</td>\n",
              "      <td>1467817225</td>\n",
              "      <td>Mon Apr 06 22:21:27 PDT 2009</td>\n",
              "      <td>NO_QUERY</td>\n",
              "      <td>crosland_12</td>\n",
              "      <td>@cocomix04 ill tell ya the story later  not a ...</td>\n",
              "    </tr>\n",
              "    <tr>\n",
              "      <th>870</th>\n",
              "      <td>2</td>\n",
              "      <td>1468031172</td>\n",
              "      <td>Mon Apr 06 23:21:02 PDT 2009</td>\n",
              "      <td>NO_QUERY</td>\n",
              "      <td>flashbrother</td>\n",
              "      <td>work again</td>\n",
              "    </tr>\n",
              "    <tr>\n",
              "      <th>346</th>\n",
              "      <td>2</td>\n",
              "      <td>1467898511</td>\n",
              "      <td>Mon Apr 06 22:42:56 PDT 2009</td>\n",
              "      <td>NO_QUERY</td>\n",
              "      <td>Day_Zee</td>\n",
              "      <td>@Jeffree_Star Jeffree! How do you keep your ha...</td>\n",
              "    </tr>\n",
              "  </tbody>\n",
              "</table>\n",
              "</div>"
            ],
            "text/plain": [
              "     target  ...                                               text\n",
              "608       4  ...  @AmandaEnglund Sorry to hear about your loss. ...\n",
              "933       0  ...           Yawn yawn yawn!! 10 more minutes in bed \n",
              "36        0  ...  @cocomix04 ill tell ya the story later  not a ...\n",
              "870       2  ...                                        work again \n",
              "346       2  ...  @Jeffree_Star Jeffree! How do you keep your ha...\n",
              "\n",
              "[5 rows x 6 columns]"
            ]
          },
          "metadata": {
            "tags": []
          },
          "execution_count": 3
        }
      ]
    },
    {
      "cell_type": "markdown",
      "metadata": {
        "id": "VJGNk7vR1Gnb"
      },
      "source": [
        "### exploring data more"
      ]
    },
    {
      "cell_type": "code",
      "metadata": {
        "colab": {
          "base_uri": "https://localhost:8080/"
        },
        "id": "UUAKHRX_1GCx",
        "outputId": "8d54bc34-c46e-455a-d76a-bf46fc5a99a5"
      },
      "source": [
        "#info about data\r\n",
        "tweet_df.info()"
      ],
      "execution_count": null,
      "outputs": [
        {
          "output_type": "stream",
          "text": [
            "<class 'pandas.core.frame.DataFrame'>\n",
            "RangeIndex: 1000 entries, 0 to 999\n",
            "Data columns (total 6 columns):\n",
            " #   Column  Non-Null Count  Dtype \n",
            "---  ------  --------------  ----- \n",
            " 0   target  1000 non-null   int64 \n",
            " 1   id      1000 non-null   int64 \n",
            " 2   date    1000 non-null   object\n",
            " 3   flag    1000 non-null   object\n",
            " 4   user    1000 non-null   object\n",
            " 5   text    1000 non-null   object\n",
            "dtypes: int64(2), object(4)\n",
            "memory usage: 47.0+ KB\n"
          ],
          "name": "stdout"
        }
      ]
    },
    {
      "cell_type": "code",
      "metadata": {
        "colab": {
          "base_uri": "https://localhost:8080/"
        },
        "id": "ToX1ACuH1oan",
        "outputId": "a598f05b-d18a-4cf4-88be-55cc6389af76"
      },
      "source": [
        "#checking missing values\r\n",
        "tweet_df.isnull().sum()"
      ],
      "execution_count": null,
      "outputs": [
        {
          "output_type": "execute_result",
          "data": {
            "text/plain": [
              "target    0\n",
              "id        0\n",
              "date      0\n",
              "flag      0\n",
              "user      0\n",
              "text      0\n",
              "dtype: int64"
            ]
          },
          "metadata": {
            "tags": []
          },
          "execution_count": 5
        }
      ]
    },
    {
      "cell_type": "code",
      "metadata": {
        "colab": {
          "base_uri": "https://localhost:8080/",
          "height": 277
        },
        "id": "EQ1CSadE1667",
        "outputId": "60167c7c-3195-41b8-f6bc-1cadc425fac1"
      },
      "source": [
        "#description of the data\r\n",
        "tweet_df.describe()"
      ],
      "execution_count": null,
      "outputs": [
        {
          "output_type": "execute_result",
          "data": {
            "text/html": [
              "<div>\n",
              "<style scoped>\n",
              "    .dataframe tbody tr th:only-of-type {\n",
              "        vertical-align: middle;\n",
              "    }\n",
              "\n",
              "    .dataframe tbody tr th {\n",
              "        vertical-align: top;\n",
              "    }\n",
              "\n",
              "    .dataframe thead th {\n",
              "        text-align: right;\n",
              "    }\n",
              "</style>\n",
              "<table border=\"1\" class=\"dataframe\">\n",
              "  <thead>\n",
              "    <tr style=\"text-align: right;\">\n",
              "      <th></th>\n",
              "      <th>target</th>\n",
              "      <th>id</th>\n",
              "    </tr>\n",
              "  </thead>\n",
              "  <tbody>\n",
              "    <tr>\n",
              "      <th>count</th>\n",
              "      <td>1000.000000</td>\n",
              "      <td>1.000000e+03</td>\n",
              "    </tr>\n",
              "    <tr>\n",
              "      <th>mean</th>\n",
              "      <td>2.078000</td>\n",
              "      <td>1.467936e+09</td>\n",
              "    </tr>\n",
              "    <tr>\n",
              "      <th>std</th>\n",
              "      <td>1.323506</td>\n",
              "      <td>7.154601e+04</td>\n",
              "    </tr>\n",
              "    <tr>\n",
              "      <th>min</th>\n",
              "      <td>0.000000</td>\n",
              "      <td>1.467810e+09</td>\n",
              "    </tr>\n",
              "    <tr>\n",
              "      <th>25%</th>\n",
              "      <td>2.000000</td>\n",
              "      <td>1.467875e+09</td>\n",
              "    </tr>\n",
              "    <tr>\n",
              "      <th>50%</th>\n",
              "      <td>2.000000</td>\n",
              "      <td>1.467936e+09</td>\n",
              "    </tr>\n",
              "    <tr>\n",
              "      <th>75%</th>\n",
              "      <td>2.000000</td>\n",
              "      <td>1.467998e+09</td>\n",
              "    </tr>\n",
              "    <tr>\n",
              "      <th>max</th>\n",
              "      <td>4.000000</td>\n",
              "      <td>1.468056e+09</td>\n",
              "    </tr>\n",
              "  </tbody>\n",
              "</table>\n",
              "</div>"
            ],
            "text/plain": [
              "            target            id\n",
              "count  1000.000000  1.000000e+03\n",
              "mean      2.078000  1.467936e+09\n",
              "std       1.323506  7.154601e+04\n",
              "min       0.000000  1.467810e+09\n",
              "25%       2.000000  1.467875e+09\n",
              "50%       2.000000  1.467936e+09\n",
              "75%       2.000000  1.467998e+09\n",
              "max       4.000000  1.468056e+09"
            ]
          },
          "metadata": {
            "tags": []
          },
          "execution_count": 6
        }
      ]
    },
    {
      "cell_type": "code",
      "metadata": {
        "colab": {
          "base_uri": "https://localhost:8080/"
        },
        "id": "Q_3Nb2lC2NSY",
        "outputId": "3471cc5d-241a-491b-a8d8-e94d683ac6be"
      },
      "source": [
        "#checking taeget value counts\r\n",
        "tweet_df['target'].value_counts()"
      ],
      "execution_count": null,
      "outputs": [
        {
          "output_type": "execute_result",
          "data": {
            "text/plain": [
              "2    561\n",
              "4    239\n",
              "0    200\n",
              "Name: target, dtype: int64"
            ]
          },
          "metadata": {
            "tags": []
          },
          "execution_count": 7
        }
      ]
    },
    {
      "cell_type": "code",
      "metadata": {
        "colab": {
          "base_uri": "https://localhost:8080/"
        },
        "id": "zYEmHR_TdXbP",
        "outputId": "91f49e37-9905-4bf0-b4a6-17ebf6777867"
      },
      "source": [
        "tweet_df['id'].nunique()"
      ],
      "execution_count": null,
      "outputs": [
        {
          "output_type": "execute_result",
          "data": {
            "text/plain": [
              "1000"
            ]
          },
          "metadata": {
            "tags": []
          },
          "execution_count": 8
        }
      ]
    },
    {
      "cell_type": "code",
      "metadata": {
        "colab": {
          "base_uri": "https://localhost:8080/"
        },
        "id": "NrxUT_Za3tKp",
        "outputId": "dee808de-18ab-44a3-aa23-08b5822834c5"
      },
      "source": [
        "#checking flag label value counts\r\n",
        "tweet_df['flag'].value_counts()"
      ],
      "execution_count": null,
      "outputs": [
        {
          "output_type": "execute_result",
          "data": {
            "text/plain": [
              "NO_QUERY    1000\n",
              "Name: flag, dtype: int64"
            ]
          },
          "metadata": {
            "tags": []
          },
          "execution_count": 9
        }
      ]
    },
    {
      "cell_type": "code",
      "metadata": {
        "colab": {
          "base_uri": "https://localhost:8080/"
        },
        "id": "qqjp4rDT4CEa",
        "outputId": "127c092d-5627-40c8-82e0-7dbee2b15a38"
      },
      "source": [
        "#checking user label value counts\r\n",
        "tweet_df['user'].value_counts()"
      ],
      "execution_count": null,
      "outputs": [
        {
          "output_type": "execute_result",
          "data": {
            "text/plain": [
              "dreaaa           3\n",
              "widyatarina      3\n",
              "atothebed        2\n",
              "EricaLeigh777    2\n",
              "AmyJade          2\n",
              "                ..\n",
              "alexleebehan     1\n",
              "TheThreePeas     1\n",
              "starkissed       1\n",
              "terrcin          1\n",
              "theresaxo        1\n",
              "Name: user, Length: 962, dtype: int64"
            ]
          },
          "metadata": {
            "tags": []
          },
          "execution_count": 10
        }
      ]
    },
    {
      "cell_type": "code",
      "metadata": {
        "colab": {
          "base_uri": "https://localhost:8080/"
        },
        "id": "Sc_vn1ZV5WVz",
        "outputId": "61c896a7-902d-4a81-9119-a061fd036be1"
      },
      "source": [
        "# checking dimensions of the data rows and columns\r\n",
        "tweet_df.shape"
      ],
      "execution_count": null,
      "outputs": [
        {
          "output_type": "execute_result",
          "data": {
            "text/plain": [
              "(1000, 6)"
            ]
          },
          "metadata": {
            "tags": []
          },
          "execution_count": 11
        }
      ]
    },
    {
      "cell_type": "markdown",
      "metadata": {
        "id": "SLhS8T2BXbDu"
      },
      "source": [
        "### Dropping unwanted columns\r\n",
        "\r\n",
        "we drop -flag since it is only represented as 'no query'whch might not help us -date,user"
      ]
    },
    {
      "cell_type": "code",
      "metadata": {
        "id": "8YWwN5j-W7L6"
      },
      "source": [
        "tweet_df.drop(columns=['flag','user','date'],inplace=True)"
      ],
      "execution_count": null,
      "outputs": []
    },
    {
      "cell_type": "code",
      "metadata": {
        "colab": {
          "base_uri": "https://localhost:8080/",
          "height": 191
        },
        "id": "QZ0WZ8-XXUd1",
        "outputId": "ab4816af-9d60-4420-9ffd-7725ae6f7dc8"
      },
      "source": [
        "tweet_df.sample(5)"
      ],
      "execution_count": null,
      "outputs": [
        {
          "output_type": "execute_result",
          "data": {
            "text/html": [
              "<div>\n",
              "<style scoped>\n",
              "    .dataframe tbody tr th:only-of-type {\n",
              "        vertical-align: middle;\n",
              "    }\n",
              "\n",
              "    .dataframe tbody tr th {\n",
              "        vertical-align: top;\n",
              "    }\n",
              "\n",
              "    .dataframe thead th {\n",
              "        text-align: right;\n",
              "    }\n",
              "</style>\n",
              "<table border=\"1\" class=\"dataframe\">\n",
              "  <thead>\n",
              "    <tr style=\"text-align: right;\">\n",
              "      <th></th>\n",
              "      <th>target</th>\n",
              "      <th>id</th>\n",
              "      <th>text</th>\n",
              "    </tr>\n",
              "  </thead>\n",
              "  <tbody>\n",
              "    <tr>\n",
              "      <th>500</th>\n",
              "      <td>4</td>\n",
              "      <td>1467936498</td>\n",
              "      <td>@Anistorm Sorry</td>\n",
              "    </tr>\n",
              "    <tr>\n",
              "      <th>533</th>\n",
              "      <td>4</td>\n",
              "      <td>1467947104</td>\n",
              "      <td>hates waiting for mails</td>\n",
              "    </tr>\n",
              "    <tr>\n",
              "      <th>822</th>\n",
              "      <td>0</td>\n",
              "      <td>1468013866</td>\n",
              "      <td>@kalichosich awww poor puppy is she ok?</td>\n",
              "    </tr>\n",
              "    <tr>\n",
              "      <th>701</th>\n",
              "      <td>2</td>\n",
              "      <td>1467986323</td>\n",
              "      <td>Re-pinging @Kyle44: Custom icons I made! =] lo...</td>\n",
              "    </tr>\n",
              "    <tr>\n",
              "      <th>383</th>\n",
              "      <td>2</td>\n",
              "      <td>1467909124</td>\n",
              "      <td>Saw an ad on Craigslist for a casting call for...</td>\n",
              "    </tr>\n",
              "  </tbody>\n",
              "</table>\n",
              "</div>"
            ],
            "text/plain": [
              "     target          id                                               text\n",
              "500       4  1467936498                                   @Anistorm Sorry \n",
              "533       4  1467947104                           hates waiting for mails \n",
              "822       0  1468013866           @kalichosich awww poor puppy is she ok? \n",
              "701       2  1467986323  Re-pinging @Kyle44: Custom icons I made! =] lo...\n",
              "383       2  1467909124  Saw an ad on Craigslist for a casting call for..."
            ]
          },
          "metadata": {
            "tags": []
          },
          "execution_count": 13
        }
      ]
    },
    {
      "cell_type": "code",
      "metadata": {
        "id": "e2rvRSnn6lbH"
      },
      "source": [
        ""
      ],
      "execution_count": null,
      "outputs": []
    },
    {
      "cell_type": "markdown",
      "metadata": {
        "id": "zhbq2hGpdL0F"
      },
      "source": [
        "## Data preparation"
      ]
    },
    {
      "cell_type": "code",
      "metadata": {
        "id": "rX-wA9mIYBf3"
      },
      "source": [
        " #regex expression\r\n",
        " #import re"
      ],
      "execution_count": null,
      "outputs": []
    },
    {
      "cell_type": "code",
      "metadata": {
        "id": "J6AuaQYinWzR"
      },
      "source": [
        "# group and find the hours and minutes\n",
        "#tweet_df['text'].str.findall(r'(\\d?\\d):(\\d\\d)').sum()"
      ],
      "execution_count": null,
      "outputs": []
    },
    {
      "cell_type": "code",
      "metadata": {
        "id": "6IDaQgt4pQDt"
      },
      "source": [
        "# extract the entire time, the hours, the minutes, and the period with group names\n",
        "#tweet_df['text'].str.extractall(r'(?P<time>(?P<hour>\\d?\\d):(?P<minute>\\d\\d) ?(?P<period>[ap]m))')"
      ],
      "execution_count": null,
      "outputs": []
    },
    {
      "cell_type": "markdown",
      "metadata": {
        "id": "tCuJ7YiZ8gvR"
      },
      "source": [
        "# Data Analysis -Univariate and Bivariate"
      ]
    },
    {
      "cell_type": "code",
      "metadata": {
        "colab": {
          "base_uri": "https://localhost:8080/",
          "height": 485
        },
        "id": "8mTHcoouphvG",
        "outputId": "bce3b16e-d5ed-4515-c993-35ba8d1ae6ac"
      },
      "source": [
        "plt.style.use('ggplot')\r\n",
        "plt.figure(figsize=(16,8))\r\n",
        "ax = sns.countplot(x=\"target\", data=tweet_df)\r\n",
        "plt.title('Distribution of  target label')\r\n",
        "plt.xlabel('target')\r\n",
        "plt.legend()\r\n",
        "total = len(tweet_df['target'])\r\n",
        "for p in ax.patches:\r\n",
        "    width = p.get_width()\r\n",
        "    height = p.get_height()\r\n",
        "    percentage = f'{100 * p.get_height()/total:.1f}%'\r\n",
        "    x, y = p.get_xy() \r\n",
        "    ax.annotate(percentage, (x + width/2, y + height*1.02), ha='center')"
      ],
      "execution_count": null,
      "outputs": [
        {
          "output_type": "stream",
          "text": [
            "No handles with labels found to put in legend.\n"
          ],
          "name": "stderr"
        },
        {
          "output_type": "display_data",
          "data": {
            "image/png": "[encoded data removed]",
            "text/plain": [
              "<Figure size 1152x576 with 1 Axes>"
            ]
          },
          "metadata": {
            "tags": []
          }
        }
      ]
    },
    {
      "cell_type": "markdown",
      "metadata": {
        "id": "cOfWfw_d9IT3"
      },
      "source": [
        "From the above analysis of the target variable we can see that neutral tweets were most ,then positive whic accounts for 24% and negative tweets for 20%."
      ]
    },
    {
      "cell_type": "markdown",
      "metadata": {
        "id": "UATFLZ-LEFeE"
      },
      "source": [
        "#   PREPROCESSING"
      ]
    },
    {
      "cell_type": "markdown",
      "metadata": {
        "id": "hnA70LzzFSXC"
      },
      "source": [
        "## A. Cleaning of Raw Data\r\n",
        "This phase involves the deletion of words or characters that do not add value to the meaning of the text. Some of the standard cleaning steps are below:\r\n",
        "\r\n",
        "    Lowering case\r\n",
        "    Removal of mentions\r\n",
        "    Removal of special characters\r\n",
        "    Removal of stopwords ##Stopwords are the words in any language which does not add much meaning to a sentence. They can safely be ignored without sacrificing the meaning of the sentence. For some search engines, these are some of the most common, short function words, such as the, is, at, which, and on\r\n",
        "    Removal of hyperlinks\r\n",
        "    Removal of numbers\r\n",
        "    Removal of whitespaces"
      ]
    },
    {
      "cell_type": "code",
      "metadata": {
        "colab": {
          "base_uri": "https://localhost:8080/"
        },
        "id": "luyjR-YP9HVz",
        "outputId": "006f0464-2c9a-463d-a22f-bd859ed058e2"
      },
      "source": [
        "#overview\r\n",
        "tweet_df['text'].iloc[:10]"
      ],
      "execution_count": null,
      "outputs": [
        {
          "output_type": "execute_result",
          "data": {
            "text/plain": [
              "0    @switchfoot http://twitpic.com/2y1zl - Awww, t...\n",
              "1    is upset that he can't update his Facebook by ...\n",
              "2    @Kenichan I dived many times for the ball. Man...\n",
              "3      my whole body feels itchy and like its on fire \n",
              "4    @nationwideclass no, it's not behaving at all....\n",
              "5                        @Kwesidei not the whole crew \n",
              "6                                          Need a hug \n",
              "7    @LOLTrish hey  long time no see! Yes.. Rains a...\n",
              "8                 @Tatiana_K nope they didn't have it \n",
              "9                            @twittera que me muera ? \n",
              "Name: text, dtype: object"
            ]
          },
          "metadata": {
            "tags": []
          },
          "execution_count": 18
        }
      ]
    },
    {
      "cell_type": "markdown",
      "metadata": {
        "id": "aIFpw_fPFrvs"
      },
      "source": [
        "Lowercase letters"
      ]
    },
    {
      "cell_type": "code",
      "metadata": {
        "colab": {
          "base_uri": "https://localhost:8080/"
        },
        "id": "cy1CiabQqk6i",
        "outputId": "51dcdb1e-e3f5-4a3c-83de-23e3dfbed4ac"
      },
      "source": [
        "tweet_df['text']=tweet_df['text'].str.strip().str.lower()\n",
        "tweet_df['text']\n"
      ],
      "execution_count": null,
      "outputs": [
        {
          "output_type": "execute_result",
          "data": {
            "text/plain": [
              "0      @switchfoot http://twitpic.com/2y1zl - awww, t...\n",
              "1      is upset that he can't update his facebook by ...\n",
              "2      @kenichan i dived many times for the ball. man...\n",
              "3         my whole body feels itchy and like its on fire\n",
              "4      @nationwideclass no, it's not behaving at all....\n",
              "                             ...                        \n",
              "995    @dkoenigs thanks man.  i'm so very grateful.  ...\n",
              "996    @t_wolfe  i miss u too. i'm totally comin back...\n",
              "997    @sniffinglue ohhh. i love it. ps i'm sad we di...\n",
              "998             and somehow i still end up in this place\n",
              "999            @kisluvkis oh that is very sad, poor boy.\n",
              "Name: text, Length: 1000, dtype: object"
            ]
          },
          "metadata": {
            "tags": []
          },
          "execution_count": 19
        }
      ]
    },
    {
      "cell_type": "markdown",
      "metadata": {
        "id": "RQ4BmwONML32"
      },
      "source": [
        "Removal of stopwords"
      ]
    },
    {
      "cell_type": "code",
      "metadata": {
        "colab": {
          "base_uri": "https://localhost:8080/"
        },
        "id": "tc12tMH_ypRB",
        "outputId": "1d362665-fe73-41ab-de4a-dae37b68bcff"
      },
      "source": [
        "import nltk\r\n",
        "nltk.download('stopwords')\r\n",
        "STOPWORDS = set(stopwords.words('english'))\r\n",
        "def remove_stopwords(text):\r\n",
        "    \"\"\"custom function to remove the stopwords\"\"\"\r\n",
        "    return \" \".join([word for word in str(text).split() if word not in STOPWORDS])\r\n",
        "\r\n",
        "tweet_df['text']=tweet_df['text'].apply(lambda x:remove_stopwords(x))"
      ],
      "execution_count": null,
      "outputs": [
        {
          "output_type": "stream",
          "text": [
            "[nltk_data] Downloading package stopwords to /root/nltk_data...\n",
            "[nltk_data]   Package stopwords is already up-to-date!\n"
          ],
          "name": "stdout"
        }
      ]
    },
    {
      "cell_type": "code",
      "metadata": {
        "colab": {
          "base_uri": "https://localhost:8080/"
        },
        "id": "M6Q9TWJfMG7t",
        "outputId": "4c5d3044-4bda-41f8-bf06-ef1dad83780d"
      },
      "source": [
        " tweet_df['text']"
      ],
      "execution_count": null,
      "outputs": [
        {
          "output_type": "execute_result",
          "data": {
            "text/plain": [
              "0      @switchfoot http://twitpic.com/2y1zl - awww, t...\n",
              "1      upset can't update facebook texting it... migh...\n",
              "2      @kenichan dived many times ball. managed save ...\n",
              "3                       whole body feels itchy like fire\n",
              "4      @nationwideclass no, behaving all. i'm mad. he...\n",
              "                             ...                        \n",
              "995    @dkoenigs thanks man. i'm grateful. feel unwor...\n",
              "996    @t_wolfe miss u too. i'm totally comin back th...\n",
              "997      @sniffinglue ohhh. love it. ps i'm sad get hang\n",
              "998                              somehow still end place\n",
              "999                         @kisluvkis oh sad, poor boy.\n",
              "Name: text, Length: 1000, dtype: object"
            ]
          },
          "metadata": {
            "tags": []
          },
          "execution_count": 21
        }
      ]
    },
    {
      "cell_type": "markdown",
      "metadata": {
        "id": "cEF0JNRCOJ1y"
      },
      "source": [
        "Removal of URLs"
      ]
    },
    {
      "cell_type": "code",
      "metadata": {
        "id": "w8I22GHtMG3T"
      },
      "source": [
        "def remove_urls(text):\r\n",
        "    url_pattern = re.compile(r'https?://\\S+|www\\.\\S+')\r\n",
        "    return url_pattern.sub(r'', text)\r\n",
        "tweet_df['text']=tweet_df['text'].apply(lambda text:remove_urls(text))\r\n"
      ],
      "execution_count": null,
      "outputs": []
    },
    {
      "cell_type": "code",
      "metadata": {
        "colab": {
          "base_uri": "https://localhost:8080/"
        },
        "id": "CX9D4pKGMG1r",
        "outputId": "8dd858be-3837-4e6d-d8ef-23c765830d30"
      },
      "source": [
        "tweet_df['text']"
      ],
      "execution_count": null,
      "outputs": [
        {
          "output_type": "execute_result",
          "data": {
            "text/plain": [
              "0      @switchfoot  - awww, that's bummer. shoulda go...\n",
              "1      upset can't update facebook texting it... migh...\n",
              "2      @kenichan dived many times ball. managed save ...\n",
              "3                       whole body feels itchy like fire\n",
              "4      @nationwideclass no, behaving all. i'm mad. he...\n",
              "                             ...                        \n",
              "995    @dkoenigs thanks man. i'm grateful. feel unwor...\n",
              "996    @t_wolfe miss u too. i'm totally comin back th...\n",
              "997      @sniffinglue ohhh. love it. ps i'm sad get hang\n",
              "998                              somehow still end place\n",
              "999                         @kisluvkis oh sad, poor boy.\n",
              "Name: text, Length: 1000, dtype: object"
            ]
          },
          "metadata": {
            "tags": []
          },
          "execution_count": 23
        }
      ]
    },
    {
      "cell_type": "markdown",
      "metadata": {
        "id": "pZ9PycNOQ31r"
      },
      "source": [
        "Removing frequent words but TFDIF Might take care of all these"
      ]
    },
    {
      "cell_type": "code",
      "metadata": {
        "colab": {
          "base_uri": "https://localhost:8080/"
        },
        "id": "PwxHDBNHMGwl",
        "outputId": "2b47d11e-aa1f-4bda-9334-58456a6073c5"
      },
      "source": [
        "#checking and counting frequent words\r\n",
        "from collections import Counter\r\n",
        "cnt = Counter()\r\n",
        "for text in tweet_df[\"text\"].values:\r\n",
        "    for word in text.split():\r\n",
        "        cnt[word] += 1\r\n",
        "        \r\n",
        "cnt.most_common(10)"
      ],
      "execution_count": null,
      "outputs": [
        {
          "output_type": "execute_result",
          "data": {
            "text/plain": [
              "[(\"i'm\", 103),\n",
              " ('get', 61),\n",
              " ('like', 50),\n",
              " ('still', 42),\n",
              " ('sad', 40),\n",
              " ('go', 38),\n",
              " ('time', 38),\n",
              " ('really', 38),\n",
              " ('going', 38),\n",
              " ('-', 37)]"
            ]
          },
          "metadata": {
            "tags": []
          },
          "execution_count": 24
        }
      ]
    },
    {
      "cell_type": "code",
      "metadata": {
        "colab": {
          "base_uri": "https://localhost:8080/"
        },
        "id": "eBr8lhhBMGu5",
        "outputId": "e046c39c-89c4-496a-a02b-06beddd10229"
      },
      "source": [
        "#removing frequent words\r\n",
        "FREQWORDS = set([w for (w, wc) in cnt.most_common(10)])\r\n",
        "def remove_freqwords(text):\r\n",
        "    \"\"\"custom function to remove the frequent words\"\"\"\r\n",
        "    return \" \".join([word for word in str(text).split() if word not in FREQWORDS])\r\n",
        "\r\n",
        "tweet_df[\"text\"] = tweet_df[\"text\"].apply(lambda text: remove_freqwords(text))\r\n",
        "tweet_df[\"text\"]"
      ],
      "execution_count": null,
      "outputs": [
        {
          "output_type": "execute_result",
          "data": {
            "text/plain": [
              "0      @switchfoot awww, that's bummer. shoulda got d...\n",
              "1      upset can't update facebook texting it... migh...\n",
              "2      @kenichan dived many times ball. managed save ...\n",
              "3                            whole body feels itchy fire\n",
              "4      @nationwideclass no, behaving all. mad. here? ...\n",
              "                             ...                        \n",
              "995    @dkoenigs thanks man. grateful. feel unworthy ...\n",
              "996    @t_wolfe miss u too. totally comin back tho! l...\n",
              "997                  @sniffinglue ohhh. love it. ps hang\n",
              "998                                    somehow end place\n",
              "999                         @kisluvkis oh sad, poor boy.\n",
              "Name: text, Length: 1000, dtype: object"
            ]
          },
          "metadata": {
            "tags": []
          },
          "execution_count": 25
        }
      ]
    },
    {
      "cell_type": "markdown",
      "metadata": {
        "id": "XhHf7KCDSb5_"
      },
      "source": [
        "#Removal of Rare words-\r\n",
        "This is very intuitive, as some of the words that are very unique in nature like names, brands, product names, and some of the noise characters, such as html leftouts, also need to be removed for different NLP tasks. For example, it would be really bad to use names as a predictor for a text classification problem, even if they come out as a significant predictor. We will talk about this further in subsequent chapters. We definitely don't want all these noisy tokens to be present. We also use length of the words as a criteria for removing words with very a short length or a very long length:"
      ]
    },
    {
      "cell_type": "code",
      "metadata": {
        "id": "y5dIXzWQMGm3"
      },
      "source": [
        "n_rare_words = 50\r\n",
        "RAREWORDS = set([w for (w, wc) in cnt.most_common()[:-n_rare_words-1:-1]])\r\n",
        "def remove_rarewords(text):\r\n",
        "    \"\"\"custom function to remove the rare words\"\"\"\r\n",
        "    return \" \".join([word for word in str(text).split() if word not in RAREWORDS])\r\n",
        "\r\n",
        "tweet_df[\"text\"] = tweet_df[\"text\"].apply(lambda text: remove_rarewords(text))"
      ],
      "execution_count": null,
      "outputs": []
    },
    {
      "cell_type": "code",
      "metadata": {
        "colab": {
          "base_uri": "https://localhost:8080/"
        },
        "id": "u0h5Nf_CR4I4",
        "outputId": "8c5e7cda-a173-4347-e4df-052a568f0f87"
      },
      "source": [
        "tweet_df[\"text\"]"
      ],
      "execution_count": null,
      "outputs": [
        {
          "output_type": "execute_result",
          "data": {
            "text/plain": [
              "0      @switchfoot awww, that's bummer. shoulda got d...\n",
              "1      upset can't update facebook texting it... migh...\n",
              "2      @kenichan dived many times ball. managed save ...\n",
              "3                            whole body feels itchy fire\n",
              "4      @nationwideclass no, behaving all. mad. here? ...\n",
              "                             ...                        \n",
              "995                                  thanks feel though,\n",
              "996                   miss u too. totally back tho! much\n",
              "997                                        love it. hang\n",
              "998                                            end place\n",
              "999                                         oh sad, poor\n",
              "Name: text, Length: 1000, dtype: object"
            ]
          },
          "metadata": {
            "tags": []
          },
          "execution_count": 27
        }
      ]
    },
    {
      "cell_type": "markdown",
      "metadata": {
        "id": "yD263g93bgDa"
      },
      "source": [
        "Removal of numbers"
      ]
    },
    {
      "cell_type": "code",
      "metadata": {
        "id": "IX8WbhwIYsU_"
      },
      "source": [
        "def remove_numbers(text):\r\n",
        "    # define the pattern to keep\r\n",
        "    pattern = r'[^a-zA-z.,!?/:;\\\"\\'\\s]' \r\n",
        "    return re.sub(pattern, '', text)\r\n",
        "\r\n",
        "tweet_df[\"text\"] = tweet_df[\"text\"].apply(lambda a:remove_numbers(a) )"
      ],
      "execution_count": null,
      "outputs": []
    },
    {
      "cell_type": "code",
      "metadata": {
        "colab": {
          "base_uri": "https://localhost:8080/"
        },
        "id": "mGlB44ZgpcOS",
        "outputId": "6fcc6858-349c-450a-a063-d230365df8a9"
      },
      "source": [
        "!pip install unicodedata2"
      ],
      "execution_count": null,
      "outputs": [
        {
          "output_type": "stream",
          "text": [
            "Requirement already satisfied: unicodedata2 in /usr/local/lib/python3.6/dist-packages (13.0.0.post2)\n"
          ],
          "name": "stdout"
        }
      ]
    },
    {
      "cell_type": "markdown",
      "metadata": {
        "id": "sV30rQ4Ke-2G"
      },
      "source": [
        "#Removal of non_ascii\r\n"
      ]
    },
    {
      "cell_type": "code",
      "metadata": {
        "colab": {
          "base_uri": "https://localhost:8080/",
          "height": 83
        },
        "id": "xj285S9PfGb4",
        "outputId": "8ba927c2-e440-44eb-fe53-69a002355dca"
      },
      "source": [
        "'''\r\n",
        "import unicodedata2\r\n",
        "def remove_non_ascii(words):\r\n",
        "    \"\"\"Remove non-ASCII characters from list of tokenized words\"\"\"\r\n",
        "    new_words = []\r\n",
        "    for word in words:\r\n",
        "        new_word = unicodedata2.normalize('NFKD', word).encode('ascii', 'ignore').decode('utf-8', 'ignore')\r\n",
        "        new_words.append(new_word)\r\n",
        "    return new_words\r\n",
        "tweet_df[\"text\"] = tweet_df[\"text\"].apply(lambda w:remove_non_ascii(w) )\r\n",
        "'''"
      ],
      "execution_count": null,
      "outputs": [
        {
          "output_type": "execute_result",
          "data": {
            "application/vnd.google.colaboratory.intrinsic+json": {
              "type": "string"
            },
            "text/plain": [
              "'\\nimport unicodedata2\\ndef remove_non_ascii(words):\\n    \"\"\"Remove non-ASCII characters from list of tokenized words\"\"\"\\n    new_words = []\\n    for word in words:\\n        new_word = unicodedata2.normalize(\\'NFKD\\', word).encode(\\'ascii\\', \\'ignore\\').decode(\\'utf-8\\', \\'ignore\\')\\n        new_words.append(new_word)\\n    return new_words\\ntweet_df[\"text\"] = tweet_df[\"text\"].apply(lambda w:remove_non_ascii(w) )\\n'"
            ]
          },
          "metadata": {
            "tags": []
          },
          "execution_count": 30
        }
      ]
    },
    {
      "cell_type": "code",
      "metadata": {
        "colab": {
          "base_uri": "https://localhost:8080/"
        },
        "id": "D3ZZX4ndqYpq",
        "outputId": "d9df7c12-82fa-45eb-a190-4dba819c517f"
      },
      "source": [
        "tweet_df[\"text\"].sample(5)"
      ],
      "execution_count": null,
      "outputs": [
        {
          "output_type": "execute_result",
          "data": {
            "text/plain": [
              "900    far  veiws sites put together, checking update...\n",
              "99     bad nite favorite teams: astros spartans lose....\n",
              "143    intending finish editing page novel manuscript...\n",
              "309                                          chiefdelphi\n",
              "262                   help forget th april amp; th july!\n",
              "Name: text, dtype: object"
            ]
          },
          "metadata": {
            "tags": []
          },
          "execution_count": 31
        }
      ]
    },
    {
      "cell_type": "markdown",
      "metadata": {
        "id": "Y7OQgOIkcfGk"
      },
      "source": [
        "Spelling correction"
      ]
    },
    {
      "cell_type": "code",
      "metadata": {
        "colab": {
          "base_uri": "https://localhost:8080/"
        },
        "id": "cKS21XF1dyRa",
        "outputId": "f82eaf70-34b1-4c1d-db5f-488e81ac71b2"
      },
      "source": [
        "!pip install pyspellchecker"
      ],
      "execution_count": null,
      "outputs": [
        {
          "output_type": "stream",
          "text": [
            "Requirement already satisfied: pyspellchecker in /usr/local/lib/python3.6/dist-packages (0.5.5)\n"
          ],
          "name": "stdout"
        }
      ]
    },
    {
      "cell_type": "code",
      "metadata": {
        "colab": {
          "base_uri": "https://localhost:8080/",
          "height": 100
        },
        "id": "ReTPiwZLYsGx",
        "outputId": "8e050e68-8180-4b27-ff54-99780291039f"
      },
      "source": [
        "'''\r\n",
        "from spellchecker import SpellChecker\r\n",
        "\r\n",
        "spell = SpellChecker()\r\n",
        "def correct_spellings(text):\r\n",
        "    corrected_text = []\r\n",
        "    misspelled_words = spell.unknown(text.split())\r\n",
        "    for word in text.split():\r\n",
        "        if word in misspelled_words:\r\n",
        "            corrected_text.append(spell.correction(word))\r\n",
        "        else:\r\n",
        "            corrected_text.append(word)\r\n",
        "    return \" \".join(corrected_text)\r\n",
        "        \r\n",
        "\r\n",
        "\r\n",
        "tweet_df[\"text\"] = tweet_df[\"text\"].apply(lambda b:correct_spellings(b))\r\n",
        "tweet_df[\"text\"].sample(5)\r\n",
        "'''"
      ],
      "execution_count": null,
      "outputs": [
        {
          "output_type": "execute_result",
          "data": {
            "application/vnd.google.colaboratory.intrinsic+json": {
              "type": "string"
            },
            "text/plain": [
              "'\\nfrom spellchecker import SpellChecker\\n\\nspell = SpellChecker()\\ndef correct_spellings(text):\\n    corrected_text = []\\n    misspelled_words = spell.unknown(text.split())\\n    for word in text.split():\\n        if word in misspelled_words:\\n            corrected_text.append(spell.correction(word))\\n        else:\\n            corrected_text.append(word)\\n    return \" \".join(corrected_text)\\n        \\n\\n\\ntweet_df[\"text\"] = tweet_df[\"text\"].apply(lambda b:correct_spellings(b))\\ntweet_df[\"text\"].sample(5)\\n'"
            ]
          },
          "metadata": {
            "tags": []
          },
          "execution_count": 33
        }
      ]
    },
    {
      "cell_type": "markdown",
      "metadata": {
        "id": "LcdeOKeUDVDt"
      },
      "source": [
        "https://www.geeksforgeeks.org/python-lemmatization-approaches-with-examples/"
      ]
    },
    {
      "cell_type": "code",
      "metadata": {
        "id": "QBUfsGXXKmGr"
      },
      "source": [
        "#Let's practice spelling and word harmonization\r\n",
        "from textblob import TextBlob\r\n",
        "tweet_df['text']=tweet_df['text'].apply(lambda x: str(TextBlob(x).correct()))"
      ],
      "execution_count": null,
      "outputs": []
    },
    {
      "cell_type": "code",
      "metadata": {
        "colab": {
          "base_uri": "https://localhost:8080/"
        },
        "id": "4ZTd8M03R4Ea",
        "outputId": "d739624d-b782-415b-894b-c12d06324f88"
      },
      "source": [
        "tweet_df[\"text\"].sample(5)"
      ],
      "execution_count": null,
      "outputs": [
        {
          "output_type": "execute_result",
          "data": {
            "text/plain": [
              "79     wonders someone u much make unhappy split seco...\n",
              "2      kenichan dived many times ball. managed save  ...\n",
              "586              daniel english professor would ashamed.\n",
              "269                                 aaaaand nausea back.\n",
              "882    worked heart today, doubling weight station. r...\n",
              "Name: text, dtype: object"
            ]
          },
          "metadata": {
            "tags": []
          },
          "execution_count": 35
        }
      ]
    },
    {
      "cell_type": "markdown",
      "metadata": {
        "id": "YxhBNqImDzft"
      },
      "source": [
        "#Tokenization¶\r\n",
        "Tokenization is the process of splitting text into smaller chunks, called tokens. Each token is an input to the machine learning algorithm as a feature. NLTK (Natural Language Toolkit) provides a utility function for tokenizing data."
      ]
    },
    {
      "cell_type": "code",
      "metadata": {
        "colab": {
          "base_uri": "https://localhost:8080/"
        },
        "id": "5FnYRBx4R4AG",
        "outputId": "25271b7b-0145-4206-e276-beac3090c189"
      },
      "source": [
        "import nltk\r\n",
        "nltk.download('punkt')\r\n",
        "from nltk.tokenize import word_tokenize\r\n",
        "tweet_df['text'] = tweet_df['text'].apply(word_tokenize)"
      ],
      "execution_count": null,
      "outputs": [
        {
          "output_type": "stream",
          "text": [
            "[nltk_data] Downloading package punkt to /root/nltk_data...\n",
            "[nltk_data]   Package punkt is already up-to-date!\n"
          ],
          "name": "stdout"
        }
      ]
    },
    {
      "cell_type": "code",
      "metadata": {
        "colab": {
          "base_uri": "https://localhost:8080/"
        },
        "id": "qL7gAC2tR38D",
        "outputId": "055ad82f-83df-4b2e-d907-0b43874d14dd"
      },
      "source": [
        "tweet_df[\"text\"].sample(5)"
      ],
      "execution_count": null,
      "outputs": [
        {
          "output_type": "execute_result",
          "data": {
            "text/plain": [
              "740                [stephenkruiser, sorry, hear, dog, .]\n",
              "209           [twist, think, want, read, books, library]\n",
              "783    [heidimontag, wish, would, rest, world, ., unf...\n",
              "540    [lymph, nodes, massive, ram, manual, 's, balls...\n",
              "116       [hibanick, yeah, a, know, went, stand, chance]\n",
              "Name: text, dtype: object"
            ]
          },
          "metadata": {
            "tags": []
          },
          "execution_count": 37
        }
      ]
    },
    {
      "cell_type": "markdown",
      "metadata": {
        "id": "zwzoB5ptGBkn"
      },
      "source": [
        "# Stemming¶\r\n",
        "Stemming is the process of removing and replacing suffixes from a token to obtain the root or base form of the word. This is called a ‘stem’. For example, the stem for the words, ‘satisfied’, ‘satisfaction’, and ‘satisfying’ is ‘satisfy’ and all of these imply the same feeling.\r\n",
        "\r\n",
        "Porter stemmer is a widely used stemming technique. nltk.stem provides the utility function to stem ‘PorterStemmer’"
      ]
    },
    {
      "cell_type": "code",
      "metadata": {
        "colab": {
          "base_uri": "https://localhost:8080/",
          "height": 67
        },
        "id": "y56tcplGGExQ",
        "outputId": "7851125e-bfc9-4377-bedc-77e0b0a45feb"
      },
      "source": [
        "'''\r\n",
        "from nltk.stem.porter import PorterStemmer\r\n",
        "\r\n",
        "stemmer = PorterStemmer()\r\n",
        "def stem_words(text):\r\n",
        "    return \" \".join([stemmer.stem(word) for word in text.split()])\r\n",
        "\r\n",
        "tweet_df[\"text\"] = tweet_df[\"text\"].apply(lambda text: stem_words(text))\r\n",
        "'''"
      ],
      "execution_count": null,
      "outputs": [
        {
          "output_type": "execute_result",
          "data": {
            "application/vnd.google.colaboratory.intrinsic+json": {
              "type": "string"
            },
            "text/plain": [
              "'\\nfrom nltk.stem.porter import PorterStemmer\\n\\nstemmer = PorterStemmer()\\ndef stem_words(text):\\n    return \" \".join([stemmer.stem(word) for word in text.split()])\\n\\ntweet_df[\"text\"] = tweet_df[\"text\"].apply(lambda text: stem_words(text))\\n'"
            ]
          },
          "metadata": {
            "tags": []
          },
          "execution_count": 38
        }
      ]
    },
    {
      "cell_type": "markdown",
      "metadata": {
        "id": "PCIrS6mkHy9B"
      },
      "source": [
        "#Lemmatization\r\n",
        "Lemmatization is similar to stemming in reducing inflected words to their word stem but differs in the way that it makes sure the root word (also called as lemma) belongs to the language.\r\n",
        "\r\n",
        "As a result, this one is generally slower than stemming process. So depending on the speed requirement, we can choose to use either stemming or lemmatization.\r\n",
        "\r\n",
        "Let us use the WordNetLemmatizer in nltk to lemmatize our sentences\r\n",
        "\r\n",
        "\r\n",
        "One major difference with stemming is that lemmatize takes a part of speech parameter, “pos” If not supplied, the default is “noun.”"
      ]
    },
    {
      "cell_type": "code",
      "metadata": {
        "colab": {
          "base_uri": "https://localhost:8080/"
        },
        "id": "q-a7j64SH1Pw",
        "outputId": "11bdd3bc-22e9-486d-bfa3-95540d3cfbba"
      },
      "source": [
        "\r\n",
        "import nltk\r\n",
        "nltk.download('wordnet')\r\n",
        "from nltk.stem import WordNetLemmatizer\r\n",
        "#instantiate initializer\r\n",
        "lemmatizer = WordNetLemmatizer()\r\n",
        "def lemmatize_words(text):\r\n",
        "  # v for verb and a for noun\r\n",
        "  lem=[lemmatizer.lemmatize(i,pos='v') for i in text]\r\n",
        "  return lem\r\n",
        "\r\n",
        "tweet_df['text']=tweet_df['text'].apply(lambda y:lemmatize_words(y))\r\n"
      ],
      "execution_count": null,
      "outputs": [
        {
          "output_type": "stream",
          "text": [
            "[nltk_data] Downloading package wordnet to /root/nltk_data...\n",
            "[nltk_data]   Package wordnet is already up-to-date!\n"
          ],
          "name": "stdout"
        }
      ]
    },
    {
      "cell_type": "code",
      "metadata": {
        "colab": {
          "base_uri": "https://localhost:8080/"
        },
        "id": "hrxsQ9R0IQg1",
        "outputId": "06b514a4-e788-4994-a17c-f0b4c0ab1394"
      },
      "source": [
        "tweet_df[\"text\"].sample(5)"
      ],
      "execution_count": null,
      "outputs": [
        {
          "output_type": "execute_result",
          "data": {
            "text/plain": [
              "994                                              [happy]\n",
              "311     [play, game, home, !, new, boss, call, yet, ...]\n",
              "565                              [in, soon, cold, right]\n",
              "438              [it, 'll, take, days, sister, passport]\n",
              "79     [wonder, someone, u, much, make, unhappy, spli...\n",
              "Name: text, dtype: object"
            ]
          },
          "metadata": {
            "tags": []
          },
          "execution_count": 40
        }
      ]
    },
    {
      "cell_type": "markdown",
      "metadata": {
        "id": "6If-X5ub9EDx"
      },
      "source": [
        "#Removing of punctuations\r\n",
        "Punctuation removal might be a good step, when punctuation does not brings additional value for text vectorization. Punctuation removal is better to be done after the tokenization step, doing it before might cause undesirable effects. Good choice for TF-IDF, Count, Binary vectorization."
      ]
    },
    {
      "cell_type": "code",
      "metadata": {
        "colab": {
          "base_uri": "https://localhost:8080/"
        },
        "id": "3GN65Xn99MMM",
        "outputId": "bb5c8aeb-e45d-4943-df41-75bd272d5e54"
      },
      "source": [
        "def remove_punctuation(text):\r\n",
        "    no_punct=\" \".join([c for c in text if c not in string.punctuation])\r\n",
        "    return no_punct\r\n",
        "tweet_df['text']=tweet_df['text'].apply(lambda x: remove_punctuation(x))\r\n",
        "tweet_df[\"text\"].sample(5)"
      ],
      "execution_count": null,
      "outputs": [
        {
          "output_type": "execute_result",
          "data": {
            "text/plain": [
              "224    miss twitter phone break use stupid nikita pho...\n",
              "291                                      afraid bad code\n",
              "693                    d_castillo ugh that 's disconcert\n",
              "333                                  michigan state make\n",
              "103                                 watch quit housequot\n",
              "Name: text, dtype: object"
            ]
          },
          "metadata": {
            "tags": []
          },
          "execution_count": 41
        }
      ]
    },
    {
      "cell_type": "markdown",
      "metadata": {
        "id": "8e75n4aLFxoN"
      },
      "source": [
        "Removal of whitespace"
      ]
    },
    {
      "cell_type": "code",
      "metadata": {
        "colab": {
          "base_uri": "https://localhost:8080/"
        },
        "id": "NiQWC272FqVX",
        "outputId": "c7183e23-2b56-426b-fc57-16f7194a1491"
      },
      "source": [
        "def remove_whitespace(word):\r\n",
        "    result = word.strip()\r\n",
        "    return result\r\n",
        "tweet_df[\"text\"] = tweet_df[\"text\"].apply(lambda te: remove_whitespace(te))\r\n",
        "tweet_df[\"text\"].sample(5)"
      ],
      "execution_count": null,
      "outputs": [
        {
          "output_type": "execute_result",
          "data": {
            "text/plain": [
              "196                                                 want\n",
              "902       org hill love money www think beck buckwild go\n",
              "744                         stephenkruiser www sad sorry\n",
              "572                               struggle hard inventor\n",
              "275    treat nearly day post webster tonight hopefull...\n",
              "Name: text, dtype: object"
            ]
          },
          "metadata": {
            "tags": []
          },
          "execution_count": 42
        }
      ]
    },
    {
      "cell_type": "markdown",
      "metadata": {
        "id": "Xqev4xVIIyi0"
      },
      "source": [
        "## Word Embedding\r\n",
        "Word2Vec"
      ]
    },
    {
      "cell_type": "code",
      "metadata": {
        "colab": {
          "base_uri": "https://localhost:8080/",
          "height": 51
        },
        "id": "hxFaWR5VIQTQ",
        "outputId": "eadde62f-ad3a-4977-866e-285a04cc2812"
      },
      "source": [
        "'''\r\n",
        "import gensim\r\n",
        "\r\n",
        "\r\n",
        "   \r\n",
        "#custom data is fed to machine for further processing\r\n",
        "tweet_df['text']=gensim.models.Word2Vec(tweet_df['text'], min_count = 1, size = 100, window = 5) \r\n",
        "\r\n",
        "tweet_df['text']\r\n",
        "'''"
      ],
      "execution_count": null,
      "outputs": [
        {
          "output_type": "execute_result",
          "data": {
            "application/vnd.google.colaboratory.intrinsic+json": {
              "type": "string"
            },
            "text/plain": [
              "\"\\nimport gensim\\n\\n\\n   \\n#custom data is fed to machine for further processing\\ntweet_df['text']=gensim.models.Word2Vec(tweet_df['text'], min_count = 1, size = 100, window = 5) \\n\\ntweet_df['text']\\n\""
            ]
          },
          "metadata": {
            "tags": []
          },
          "execution_count": 43
        }
      ]
    },
    {
      "cell_type": "markdown",
      "metadata": {
        "id": "sQ2ZYuVTZVul"
      },
      "source": [
        "##defining target variable and  predictor"
      ]
    },
    {
      "cell_type": "code",
      "metadata": {
        "id": "lvVUtY54ZiGu"
      },
      "source": [
        "X=tweet_df['text']\r\n",
        "y=tweet_df['target']"
      ],
      "execution_count": null,
      "outputs": []
    },
    {
      "cell_type": "markdown",
      "metadata": {
        "id": "uKTW7S9bZH6n"
      },
      "source": [
        "###Extracting Features from Cleaned Tweets"
      ]
    },
    {
      "cell_type": "code",
      "metadata": {
        "colab": {
          "base_uri": "https://localhost:8080/"
        },
        "id": "AW5NmP91aVwU",
        "outputId": "e15e843a-c09b-4979-cd8a-65d2c191ec7c"
      },
      "source": [
        "'''\r\n",
        "Now at this stage we need to apply TfidfVectorizer to make the sparse matrix to X\r\n",
        "using TF-DiF model\r\n",
        "'''\r\n",
        "from sklearn.feature_extraction.text import TfidfVectorizer,CountVectorizer\r\n",
        "VecModel = TfidfVectorizer()\r\n",
        "X = VecModel.fit_transform(X)\r\n",
        "X"
      ],
      "execution_count": null,
      "outputs": [
        {
          "output_type": "execute_result",
          "data": {
            "text/plain": [
              "<1000x2449 sparse matrix of type '<class 'numpy.float64'>'\n",
              "\twith 7092 stored elements in Compressed Sparse Row format>"
            ]
          },
          "metadata": {
            "tags": []
          },
          "execution_count": 45
        }
      ]
    },
    {
      "cell_type": "markdown",
      "metadata": {
        "id": "Wh1xhrAVGNwF"
      },
      "source": [
        "#Modelling"
      ]
    },
    {
      "cell_type": "code",
      "metadata": {
        "id": "Fj-yYbN5i3QA"
      },
      "source": [
        "from sklearn.model_selection import train_test_split\r\n",
        "#Now we split the dataset into train and test sets\r\n",
        "\r\n",
        "X_train, X_test, y_train, y_test = train_test_split(X, y, test_size=0.25, random_state=402)"
      ],
      "execution_count": null,
      "outputs": []
    },
    {
      "cell_type": "code",
      "metadata": {
        "colab": {
          "base_uri": "https://localhost:8080/"
        },
        "id": "rTu6Qh6MfDYZ",
        "outputId": "79ed6f40-0667-4199-a864-ddccdbd18712"
      },
      "source": [
        "print('X_train shape is ' , X_train.shape)\r\n",
        "print('X_test shape is ' , X_test.shape)\r\n",
        "print('y_train shape is ' , y_train.shape)\r\n",
        "print('y_test shape is ' , y_test.shape)"
      ],
      "execution_count": null,
      "outputs": [
        {
          "output_type": "stream",
          "text": [
            "X_train shape is  (750, 2449)\n",
            "X_test shape is  (250, 2449)\n",
            "y_train shape is  (750,)\n",
            "y_test shape is  (250,)\n"
          ],
          "name": "stdout"
        }
      ]
    },
    {
      "cell_type": "markdown",
      "metadata": {
        "id": "ro0hG42vf-3h"
      },
      "source": [
        "#Applying Classification Machine Learning ModelS"
      ]
    },
    {
      "cell_type": "code",
      "metadata": {
        "id": "wE3Koma-fOKO"
      },
      "source": [
        "#importing classfication algorithms to be applied\r\n",
        "from sklearn.linear_model import LogisticRegression\r\n",
        "from sklearn.tree import DecisionTreeClassifier\r\n",
        "from sklearn.ensemble import RandomForestClassifier\r\n",
        "from sklearn.svm import SVC\r\n",
        "from sklearn.naive_bayes import  MultinomialNB"
      ],
      "execution_count": null,
      "outputs": []
    },
    {
      "cell_type": "markdown",
      "metadata": {
        "id": "5xctut6DkTHG"
      },
      "source": [
        "#####Logistic"
      ]
    },
    {
      "cell_type": "code",
      "metadata": {
        "id": "g6-9VCjNkXBm"
      },
      "source": [
        "Log=LogisticRegression(solver='saga', random_state=5,max_iter=500,n_jobs=-1)\r\n",
        "Log.fit(X_train,y_train)\r\n",
        "pred=Log.predict(X_test)\r\n"
      ],
      "execution_count": null,
      "outputs": []
    },
    {
      "cell_type": "code",
      "metadata": {
        "colab": {
          "base_uri": "https://localhost:8080/"
        },
        "id": "k5AMUMuHrpkd",
        "outputId": "95ce3093-28ce-4ec9-a9a1-6932247f1bca"
      },
      "source": [
        "# model evaluation\r\n",
        "from sklearn.metrics import accuracy_score, confusion_matrix, classification_report\r\n",
        "print(accuracy_score(pred, y_test))\r\n",
        "print(confusion_matrix(y_test,pred))\r\n",
        "print(classification_report(y_test,pred))"
      ],
      "execution_count": null,
      "outputs": [
        {
          "output_type": "stream",
          "text": [
            "0.524\n",
            "[[  0  44   1]\n",
            " [  2 130   2]\n",
            " [  2  68   1]]\n",
            "              precision    recall  f1-score   support\n",
            "\n",
            "           0       0.00      0.00      0.00        45\n",
            "           2       0.54      0.97      0.69       134\n",
            "           4       0.25      0.01      0.03        71\n",
            "\n",
            "    accuracy                           0.52       250\n",
            "   macro avg       0.26      0.33      0.24       250\n",
            "weighted avg       0.36      0.52      0.38       250\n",
            "\n"
          ],
          "name": "stdout"
        }
      ]
    },
    {
      "cell_type": "markdown",
      "metadata": {
        "id": "UpgZvEAouPqE"
      },
      "source": [
        "#other models"
      ]
    },
    {
      "cell_type": "code",
      "metadata": {
        "colab": {
          "base_uri": "https://localhost:8080/"
        },
        "id": "IPvdHcqHtADt",
        "outputId": "eae1605e-b921-4045-b3ac-0a2ed1ccc667"
      },
      "source": [
        "# importing our machine learning algorithms  \r\n",
        "from sklearn.tree import DecisionTreeClassifier    \r\n",
        "from sklearn.ensemble import RandomForestClassifier\r\n",
        "from sklearn.ensemble import GradientBoostingClassifier\r\n",
        "\r\n",
        "# instantiating our algorithms\r\n",
        "decision_classifier = DecisionTreeClassifier()\r\n",
        "random_forest_classifier = RandomForestClassifier()\r\n",
        "gbm_classifier = GradientBoostingClassifier()\r\n",
        "\r\n",
        "# training our models\r\n",
        "decision_classifier.fit(X_train, y_train)\r\n",
        "random_forest_classifier.fit(X_train, y_train)\r\n",
        "gbm_classifier.fit(X_train, y_train)\r\n",
        "\r\n",
        "# making predictions\r\n",
        "decision_y_prediction = decision_classifier.predict(X_test) \r\n",
        "random_forest_y_pred = random_forest_classifier.predict(X_test)\r\n",
        "gbm_y_pred = gbm_classifier.predict(X_test)\r\n",
        "\r\n",
        "# evaluation metrics\r\n",
        "from sklearn.metrics import classification_report, accuracy_score, roc_auc_score, confusion_matrix\r\n",
        "print('Decision Tree')\r\n",
        "print(accuracy_score(decision_y_prediction, y_test))\r\n",
        "print(confusion_matrix(decision_y_prediction, y_test))\r\n",
        "print(classification_report(decision_y_prediction, y_test))\r\n",
        "\r\n",
        "\r\n",
        "print('Random Forest')\r\n",
        "print(accuracy_score(random_forest_y_pred, y_test))\r\n",
        "print(confusion_matrix(random_forest_y_pred, y_test))\r\n",
        "print(classification_report(random_forest_y_pred, y_test))\r\n",
        "\r\n",
        "\r\n",
        "print('Gradient Boosting')\r\n",
        "print(accuracy_score(gbm_y_pred, y_test))\r\n",
        "print(confusion_matrix(gbm_y_pred, y_test))\r\n",
        "print(classification_report(gbm_y_pred, y_test))\r\n"
      ],
      "execution_count": null,
      "outputs": [
        {
          "output_type": "stream",
          "text": [
            "Decision Tree\n",
            "0.456\n",
            "[[ 8 24 11]\n",
            " [29 91 45]\n",
            " [ 8 19 15]]\n",
            "              precision    recall  f1-score   support\n",
            "\n",
            "           0       0.18      0.19      0.18        43\n",
            "           2       0.68      0.55      0.61       165\n",
            "           4       0.21      0.36      0.27        42\n",
            "\n",
            "    accuracy                           0.46       250\n",
            "   macro avg       0.36      0.36      0.35       250\n",
            "weighted avg       0.51      0.46      0.48       250\n",
            "\n",
            "Random Forest\n",
            "0.512\n",
            "[[  2   5   5]\n",
            " [ 39 125  65]\n",
            " [  4   4   1]]\n",
            "              precision    recall  f1-score   support\n",
            "\n",
            "           0       0.04      0.17      0.07        12\n",
            "           2       0.93      0.55      0.69       229\n",
            "           4       0.01      0.11      0.03         9\n",
            "\n",
            "    accuracy                           0.51       250\n",
            "   macro avg       0.33      0.27      0.26       250\n",
            "weighted avg       0.86      0.51      0.64       250\n",
            "\n",
            "Gradient Boosting\n",
            "0.508\n",
            "[[  3   7   5]\n",
            " [ 37 118  60]\n",
            " [  5   9   6]]\n",
            "              precision    recall  f1-score   support\n",
            "\n",
            "           0       0.07      0.20      0.10        15\n",
            "           2       0.88      0.55      0.68       215\n",
            "           4       0.08      0.30      0.13        20\n",
            "\n",
            "    accuracy                           0.51       250\n",
            "   macro avg       0.34      0.35      0.30       250\n",
            "weighted avg       0.77      0.51      0.60       250\n",
            "\n"
          ],
          "name": "stdout"
        }
      ]
    },
    {
      "cell_type": "code",
      "metadata": {
        "id": "9cBYTICNuygM"
      },
      "source": [
        ""
      ],
      "execution_count": null,
      "outputs": []
    }
  ]
}